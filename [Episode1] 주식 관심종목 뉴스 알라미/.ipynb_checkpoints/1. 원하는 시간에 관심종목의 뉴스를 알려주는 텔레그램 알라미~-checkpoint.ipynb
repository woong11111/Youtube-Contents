{
 "cells": [
  {
   "cell_type": "markdown",
   "metadata": {},
   "source": [
    "# Jupyter Notebook 사용 방법"
   ]
  },
  {
   "cell_type": "markdown",
   "metadata": {},
   "source": [
    " - esc : 코드 입력 블록 활성화/비활성화\n",
    " - 단축키 m : 주석 및 부제목 입력 시\n",
    " - shift + Enter or Alt + Enter : 코드 실행\n",
    " - esc -> b : 밑에 방향으로 코드 입력 블록이 생성\n",
    " - esc -> a : 위에 방향으로 코드 입력 블록이 생성"
   ]
  },
  {
   "cell_type": "markdown",
   "metadata": {},
   "source": [
    "# 1. 필요 Library 설치"
   ]
  },
  {
   "cell_type": "code",
   "execution_count": 4,
   "metadata": {
    "collapsed": true
   },
   "outputs": [
    {
     "name": "stdout",
     "output_type": "stream",
     "text": [
      "Requirement already satisfied: beautifulsoup4 in c:\\users\\woong\\anaconda3\\lib\\site-packages (4.7.1)\n",
      "Requirement already satisfied: soupsieve>=1.2 in c:\\users\\woong\\anaconda3\\lib\\site-packages (from beautifulsoup4) (1.8)\n"
     ]
    }
   ],
   "source": [
    "!pip install beautifulsoup4"
   ]
  },
  {
   "cell_type": "code",
   "execution_count": 5,
   "metadata": {
    "collapsed": true
   },
   "outputs": [
    {
     "name": "stdout",
     "output_type": "stream",
     "text": [
      "Requirement already satisfied: python-telegram-bot in c:\\users\\woong\\anaconda3\\lib\\site-packages (11.1.0)\n",
      "Requirement already satisfied: future>=0.16.0 in c:\\users\\woong\\anaconda3\\lib\\site-packages (from python-telegram-bot) (0.17.1)\n",
      "Requirement already satisfied: certifi in c:\\users\\woong\\anaconda3\\lib\\site-packages (from python-telegram-bot) (2019.3.9)\n",
      "Requirement already satisfied: cryptography in c:\\users\\woong\\anaconda3\\lib\\site-packages (from python-telegram-bot) (2.6.1)\n",
      "Requirement already satisfied: asn1crypto>=0.21.0 in c:\\users\\woong\\anaconda3\\lib\\site-packages (from cryptography->python-telegram-bot) (0.24.0)\n",
      "Requirement already satisfied: cffi!=1.11.3,>=1.8 in c:\\users\\woong\\anaconda3\\lib\\site-packages (from cryptography->python-telegram-bot) (1.12.2)\n",
      "Requirement already satisfied: six>=1.4.1 in c:\\users\\woong\\anaconda3\\lib\\site-packages (from cryptography->python-telegram-bot) (1.12.0)\n",
      "Requirement already satisfied: pycparser in c:\\users\\woong\\anaconda3\\lib\\site-packages (from cffi!=1.11.3,>=1.8->cryptography->python-telegram-bot) (2.19)\n"
     ]
    }
   ],
   "source": [
    "!pip install python-telegram-bot"
   ]
  },
  {
   "cell_type": "markdown",
   "metadata": {},
   "source": [
    "# 2. 실행코드"
   ]
  },
  {
   "cell_type": "code",
   "execution_count": 1,
   "metadata": {},
   "outputs": [],
   "source": [
    "from bs4 import BeautifulSoup\n",
    "import datetime\n",
    "import requests\n",
    "import telegram\n",
    "import time"
   ]
  },
  {
   "cell_type": "code",
   "execution_count": 2,
   "metadata": {},
   "outputs": [],
   "source": [
    "my_token = '9853285:AAH5_-HPQfdsRycHMdffdssdfmGg7lJEWjqeTE0' "
   ]
  },
  {
   "cell_type": "code",
   "execution_count": 3,
   "metadata": {},
   "outputs": [],
   "source": [
    "bot = telegram.Bot(token = my_token)\n",
    "chat_id = bot.getUpdates()[-1].message.chat.id"
   ]
  },
  {
   "cell_type": "code",
   "execution_count": 4,
   "metadata": {},
   "outputs": [],
   "source": [
    "news_title = []\n",
    "news_link = []\n",
    "news_maker = []"
   ]
  },
  {
   "cell_type": "code",
   "execution_count": null,
   "metadata": {},
   "outputs": [],
   "source": [
    "def news_crawling(page_total, stock_name) :\n",
    "    \n",
    "    i = 1\n",
    "    page_totals = (int(page_total)-1)*10+1\n",
    "    \n",
    "    while i <= page_totals :\n",
    "        \n",
    "        url1 = \"https://search.naver.com/search.naver?where=news&query=\"\n",
    "        url2 = stock_name + \"&sort=1&ds=\" + yesterday + \"&de=\" + today + \"&nso=so%3Ar%2Cp%3Afrom\"\n",
    "        url3 = yesterday.replace(\".\", \"\") + \"to\" + today.replace(\".\", \"\") + \"%2Ca%3A&start=\" + str(i)\n",
    "        url = url1 + url2 + url3\n",
    "        \n",
    "        response = requests.get(url)\n",
    "        html = response.text\n",
    "        soup = BeautifulSoup(html, 'html.parser')\n",
    "        \n",
    "        a_tags = soup.select('._sp_each_title')\n",
    "        for a_tag in a_tags :\n",
    "            news_title.append(a_tag.text)\n",
    "            news_link.append(a_tag['href'])\n",
    "            \n",
    "        makers = soup.select('._sp_each_source')\n",
    "        for maker in makers :\n",
    "            news_maker.append(maker.text)\n",
    "            \n",
    "        i += 10\n",
    "        \n",
    "    return news_title, news_maker, news_link"
   ]
  },
  {
   "cell_type": "code",
   "execution_count": null,
   "metadata": {},
   "outputs": [
    {
     "name": "stdout",
     "output_type": "stream",
     "text": [
      "Naver 뉴스 출력 할 페이지 수5\n",
      "주식 관심 종목 or 키워드 : 더벨\n"
     ]
    }
   ],
   "source": [
    "if __name__ == \"__main__\" :\n",
    "    \n",
    "    page_total = input(\"Naver 뉴스 출력 할 페이지 수\")\n",
    "    stock_name = input(\"주식 관심 종목 or 키워드 : \")\n",
    "    \n",
    "    while True :\n",
    "        \n",
    "        now_hour = datetime.datetime.now().hour\n",
    "        today = datetime.datetime.now().strftime('%Y.%m.%d')\n",
    "        yesterday = (datetime.datetime.now() + datetime.timedelta(-1)).strftime('%Y.%m.%d')\n",
    "        \n",
    "        \n",
    "        if 19 <= now_hour < 20 or 12 <= now_hour < 13 :\n",
    "            \n",
    "            news_title, news_maker, news_link = news_crawling(page_total, stock_name)\n",
    "            \n",
    "            for i in range(len(news_title)) :\n",
    "                bot.sendMessage(chat_id = chat_id, text = news_title[i] + ', ' + news_maker[i] + ', ' + news_link[i])\n",
    "                \n",
    "        \n",
    "        time.sleep(3600)\n",
    "    \n",
    "    "
   ]
  },
  {
   "cell_type": "code",
   "execution_count": null,
   "metadata": {},
   "outputs": [],
   "source": []
  }
 ],
 "metadata": {
  "kernelspec": {
   "display_name": "Python 3",
   "language": "python",
   "name": "python3"
  },
  "language_info": {
   "codemirror_mode": {
    "name": "ipython",
    "version": 3
   },
   "file_extension": ".py",
   "mimetype": "text/x-python",
   "name": "python",
   "nbconvert_exporter": "python",
   "pygments_lexer": "ipython3",
   "version": "3.7.3"
  }
 },
 "nbformat": 4,
 "nbformat_minor": 2
}

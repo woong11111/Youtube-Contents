{
 "cells": [
  {
   "cell_type": "markdown",
   "metadata": {},
   "source": [
    "## 1. 필요 Library 설치"
   ]
  },
  {
   "cell_type": "code",
   "execution_count": 1,
   "metadata": {
    "collapsed": true
   },
   "outputs": [
    {
     "name": "stdout",
     "output_type": "stream",
     "text": [
      "Requirement already satisfied: beautifulsoup4 in c:\\users\\woong\\anaconda3\\lib\\site-packages (4.6.0)\n"
     ]
    },
    {
     "name": "stderr",
     "output_type": "stream",
     "text": [
      "WARNING: You are using pip version 19.2.3, however version 19.3.1 is available.\n",
      "You should consider upgrading via the 'python -m pip install --upgrade pip' command.\n"
     ]
    }
   ],
   "source": [
    "!pip install beautifulsoup4"
   ]
  },
  {
   "cell_type": "code",
   "execution_count": 2,
   "metadata": {
    "collapsed": true
   },
   "outputs": [
    {
     "name": "stdout",
     "output_type": "stream",
     "text": [
      "Requirement already satisfied: python-telegram-bot in c:\\users\\woong\\anaconda3\\lib\\site-packages (12.2.0)\n",
      "Requirement already satisfied: cryptography in c:\\users\\woong\\anaconda3\\lib\\site-packages (from python-telegram-bot) (2.6.1)\n",
      "Requirement already satisfied: tornado>=5.1 in c:\\users\\woong\\anaconda3\\lib\\site-packages (from python-telegram-bot) (6.0.2)\n",
      "Requirement already satisfied: certifi in c:\\users\\woong\\anaconda3\\lib\\site-packages (from python-telegram-bot) (2019.3.9)\n",
      "Requirement already satisfied: future>=0.16.0 in c:\\users\\woong\\anaconda3\\lib\\site-packages (from python-telegram-bot) (0.17.1)\n",
      "Requirement already satisfied: cffi!=1.11.3,>=1.8 in c:\\users\\woong\\anaconda3\\lib\\site-packages (from cryptography->python-telegram-bot) (1.12.2)\n",
      "Requirement already satisfied: asn1crypto>=0.21.0 in c:\\users\\woong\\anaconda3\\lib\\site-packages (from cryptography->python-telegram-bot) (0.24.0)\n",
      "Requirement already satisfied: six>=1.4.1 in c:\\users\\woong\\anaconda3\\lib\\site-packages (from cryptography->python-telegram-bot) (1.12.0)\n",
      "Requirement already satisfied: pycparser in c:\\users\\woong\\anaconda3\\lib\\site-packages (from cffi!=1.11.3,>=1.8->cryptography->python-telegram-bot) (2.19)\n"
     ]
    },
    {
     "name": "stderr",
     "output_type": "stream",
     "text": [
      "WARNING: You are using pip version 19.2.3, however version 19.3.1 is available.\n",
      "You should consider upgrading via the 'python -m pip install --upgrade pip' command.\n"
     ]
    }
   ],
   "source": [
    "!pip install python-telegram-bot"
   ]
  },
  {
   "cell_type": "markdown",
   "metadata": {},
   "source": [
    "## 2. 실행 코드"
   ]
  },
  {
   "cell_type": "code",
   "execution_count": 1,
   "metadata": {},
   "outputs": [],
   "source": [
    "from bs4 import BeautifulSoup\n",
    "import telegram\n",
    "\n",
    "import requests\n",
    "\n",
    "import datetime \n",
    "import time\n",
    "\n",
    "import re\n",
    "\n",
    "import pandas as pd\n",
    "from pandas.plotting import table \n",
    "\n",
    "import matplotlib.pyplot as plt\n",
    "from matplotlib import font_manager"
   ]
  },
  {
   "cell_type": "code",
   "execution_count": 3,
   "metadata": {},
   "outputs": [],
   "source": [
    "my_token = '983160285:AAH5_-HPQuGYRycHMfZ3vmGg7lJEWjqeTE0' "
   ]
  },
  {
   "cell_type": "code",
   "execution_count": 4,
   "metadata": {},
   "outputs": [],
   "source": [
    "bot = telegram.Bot(token = my_token) \n",
    "chat_id = bot.getUpdates()[-1].message.chat.id"
   ]
  },
  {
   "cell_type": "code",
   "execution_count": 5,
   "metadata": {},
   "outputs": [],
   "source": [
    "def hot_rank_stock_name():\n",
    "    \n",
    "    url = \"https://finance.naver.com/sise/lastsearch2.nhn\"\n",
    "    response = requests.get(url)\n",
    "    html = response.text\n",
    "    soup = BeautifulSoup(html, 'html.parser')\n",
    "    \n",
    "    rank = soup.select('.no')\n",
    "    stockname = soup.select('.tltle') # i 가 아니라 소문자 L\n",
    "    etc_total = soup.select('.number')\n",
    "    \n",
    "    s_rank = []\n",
    "    s_name = []\n",
    "    s_ratio = []\n",
    "    s_price = []\n",
    "    s_updown_ratio = []\n",
    "    s_count = []\n",
    "\n",
    "    r = re.compile('\\d+.\\d+%')\n",
    "    \n",
    "    for i in range(10) :\n",
    "        \n",
    "        s_rank.append(rank[i].text)\n",
    "        s_name.append(stockname[i].text)\n",
    "        s_ratio.append(etc_total[i*10].text)\n",
    "        s_price.append(etc_total[i*10+1].text)\n",
    "        \n",
    "        match = r.search(etc_total[i*10+3].text)\n",
    "        s_updown_ratio.append(match.group())\n",
    "        \n",
    "        s_count.append(etc_total[i*10+4].text)\n",
    "        \n",
    "    df = pd.DataFrame({\"검색순위\":s_rank,\"종목명\":s_name,\"검색비율\":s_ratio,\"현재가\":s_price,\"등락률\":s_updown_ratio,\"거래량\":s_count})\n",
    "    \n",
    "    return df"
   ]
  },
  {
   "cell_type": "code",
   "execution_count": 6,
   "metadata": {},
   "outputs": [
    {
     "name": "stdout",
     "output_type": "stream",
     "text": [
      "사용가능한 TTF 폰트 개수: 745\n"
     ]
    },
    {
     "data": {
      "text/plain": [
       "['C:\\\\Windows\\\\Fonts\\\\GARAIT.TTF',\n",
       " 'C:\\\\Windows\\\\Fonts\\\\BELLB.TTF',\n",
       " 'C:\\\\Windows\\\\Fonts\\\\couri.ttf',\n",
       " 'C:\\\\Windows\\\\Fonts\\\\HARLOWSI.TTF',\n",
       " 'C:\\\\Windows\\\\Fonts\\\\MT.TTF',\n",
       " 'C:\\\\Windows\\\\Fonts\\\\seguisbi.ttf',\n",
       " 'C:\\\\Windows\\\\Fonts\\\\framd.ttf',\n",
       " 'C:\\\\Windows\\\\Fonts\\\\IMPRISHA.TTF',\n",
       " 'C:\\\\Windows\\\\Fonts\\\\constani.ttf',\n",
       " 'C:\\\\Windows\\\\Fonts\\\\LBRITEDI.TTF']"
      ]
     },
     "execution_count": 6,
     "metadata": {},
     "output_type": "execute_result"
    }
   ],
   "source": [
    "font_list = font_manager.findSystemFonts(fontpaths=None, fontext='ttf')\n",
    "print('사용가능한 TTF 폰트 개수:', len(font_list))\n",
    "font_list[:10] "
   ]
  },
  {
   "cell_type": "code",
   "execution_count": 7,
   "metadata": {},
   "outputs": [],
   "source": [
    "font_fname = 'C:\\\\Windows\\\\Fonts\\\\HANDotumB.ttf'\n",
    "font_family = font_manager.FontProperties(fname=font_fname).get_name()\n",
    "plt.rcParams[\"font.family\"] = font_family"
   ]
  },
  {
   "cell_type": "code",
   "execution_count": null,
   "metadata": {},
   "outputs": [],
   "source": [
    "if __name__ == \"__main__\" :\n",
    "        \n",
    "    while True : \n",
    "        \n",
    "        now_hour = datetime.datetime.now().hour\n",
    "        today = datetime.datetime.now().strftime('%Y.%m.%d')\n",
    "        yesterday = (datetime.datetime.now() + datetime.timedelta(-1)).strftime('%Y.%m.%d')\n",
    "        \n",
    "        if 17 <= now_hour < 18 or 12 <= now_hour < 13 :\n",
    "            \n",
    "            df = hot_rank_stock_name() \n",
    "            df.index = df['검색순위']\n",
    "            df.drop(columns='검색순위', inplace=True)\n",
    "            \n",
    "            fig, ax = plt.subplots(figsize=(15, 5)) \n",
    "            ax.xaxis.set_visible(False) \n",
    "            ax.yaxis.set_visible(False) \n",
    "            ax.set_frame_on(False)\n",
    "            tabla = table(ax, df, loc='center', colWidths=[0.13]*len(df.columns)) \n",
    "            tabla.set_fontsize(20) \n",
    "            tabla.scale(1.4, 2) \n",
    "            plt.savefig('table.png', transparent=True)\n",
    "            \n",
    "            bot.sendMessage(chat_id = chat_id, text= 'Naver 종목 검색순위' + '-' + datetime.datetime.now().strftime('%Y.%m.%d %Hh %Mm'))\n",
    "            bot.send_photo(chat_id=chat_id, photo=open('table.png', 'rb'))\n",
    "          \n",
    "        time.sleep(60)        "
   ]
  },
  {
   "cell_type": "code",
   "execution_count": null,
   "metadata": {},
   "outputs": [],
   "source": []
  }
 ],
 "metadata": {
  "kernelspec": {
   "display_name": "Python 3",
   "language": "python",
   "name": "python3"
  },
  "language_info": {
   "codemirror_mode": {
    "name": "ipython",
    "version": 3
   },
   "file_extension": ".py",
   "mimetype": "text/x-python",
   "name": "python",
   "nbconvert_exporter": "python",
   "pygments_lexer": "ipython3",
   "version": "3.7.3"
  }
 },
 "nbformat": 4,
 "nbformat_minor": 2
}

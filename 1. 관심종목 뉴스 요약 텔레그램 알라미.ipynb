{
 "cells": [
  {
   "cell_type": "markdown",
   "metadata": {},
   "source": [
    "## 1. 필요 Library 설치"
   ]
  },
  {
   "cell_type": "code",
   "execution_count": 1,
   "metadata": {
    "collapsed": true
   },
   "outputs": [
    {
     "name": "stdout",
     "output_type": "stream",
     "text": [
      "Requirement already satisfied: beautifulsoup4 in c:\\users\\woong\\anaconda3\\lib\\site-packages (4.6.0)\n"
     ]
    },
    {
     "name": "stderr",
     "output_type": "stream",
     "text": [
      "WARNING: You are using pip version 19.2.3, however version 19.3.1 is available.\n",
      "You should consider upgrading via the 'python -m pip install --upgrade pip' command.\n"
     ]
    }
   ],
   "source": [
    "!pip install beautifulsoup4"
   ]
  },
  {
   "cell_type": "code",
   "execution_count": 2,
   "metadata": {
    "collapsed": true
   },
   "outputs": [
    {
     "name": "stdout",
     "output_type": "stream",
     "text": [
      "Requirement already satisfied: python-telegram-bot in c:\\users\\woong\\anaconda3\\lib\\site-packages (12.2.0)\n",
      "Requirement already satisfied: cryptography in c:\\users\\woong\\anaconda3\\lib\\site-packages (from python-telegram-bot) (2.6.1)\n",
      "Requirement already satisfied: tornado>=5.1 in c:\\users\\woong\\anaconda3\\lib\\site-packages (from python-telegram-bot) (6.0.2)\n",
      "Requirement already satisfied: certifi in c:\\users\\woong\\anaconda3\\lib\\site-packages (from python-telegram-bot) (2019.3.9)\n",
      "Requirement already satisfied: future>=0.16.0 in c:\\users\\woong\\anaconda3\\lib\\site-packages (from python-telegram-bot) (0.17.1)\n",
      "Requirement already satisfied: cffi!=1.11.3,>=1.8 in c:\\users\\woong\\anaconda3\\lib\\site-packages (from cryptography->python-telegram-bot) (1.12.2)\n",
      "Requirement already satisfied: asn1crypto>=0.21.0 in c:\\users\\woong\\anaconda3\\lib\\site-packages (from cryptography->python-telegram-bot) (0.24.0)\n",
      "Requirement already satisfied: six>=1.4.1 in c:\\users\\woong\\anaconda3\\lib\\site-packages (from cryptography->python-telegram-bot) (1.12.0)\n",
      "Requirement already satisfied: pycparser in c:\\users\\woong\\anaconda3\\lib\\site-packages (from cffi!=1.11.3,>=1.8->cryptography->python-telegram-bot) (2.19)\n"
     ]
    },
    {
     "name": "stderr",
     "output_type": "stream",
     "text": [
      "WARNING: You are using pip version 19.2.3, however version 19.3.1 is available.\n",
      "You should consider upgrading via the 'python -m pip install --upgrade pip' command.\n"
     ]
    }
   ],
   "source": [
    "!pip install python-telegram-bot"
   ]
  },
  {
   "cell_type": "markdown",
   "metadata": {},
   "source": [
    "## 2. 실행 코드"
   ]
  },
  {
   "cell_type": "code",
   "execution_count": null,
   "metadata": {
    "scrolled": true
   },
   "outputs": [
    {
     "name": "stdout",
     "output_type": "stream",
     "text": [
      "Naver 뉴스 출력 할 페이지 수 : 3\n",
      "주식 관심 종목 : 에이치엘비 리보세라닙\n"
     ]
    }
   ],
   "source": [
    "from bs4 import BeautifulSoup\n",
    "import datetime\n",
    "import requests\n",
    "import telegram \n",
    "import time\n",
    "\n",
    "my_token = '983160285:AAH5_-HPQuGYRycHMfZ3vmGg7lJEWjqeTE0' \n",
    "bot = telegram.Bot(token = my_token) \n",
    "chat_id = bot.getUpdates()[-1].message.chat.id\n",
    "\n",
    "now_hour = datetime.datetime.now().hour\n",
    "today = datetime.datetime.now().strftime('%Y.%m.%d')\n",
    "yesterday = (datetime.datetime.now() + datetime.timedelta(-1)).strftime('%Y.%m.%d')\n",
    "\n",
    "news_title = []\n",
    "news_link = []\n",
    "news_maker = []\n",
    "\n",
    "def news_crawling(page_total,stock_name):\n",
    "\n",
    "    i = 1\n",
    "    page_totals =(int(page_total)-1)*10+1 \n",
    "    \n",
    "    while i <= page_totals :\n",
    "        \n",
    "        url1 = \"https://search.naver.com/search.naver?where=news&query=\"\n",
    "        url2 = stock_name + \"&sort=1&ds=\" + yesterday + \"&de=\" + today + \"&nso=so%3Ar%2Cp%3Afrom\"\n",
    "        url3 = yesterday.replace(\".\",\"\") + \"to\" + today.replace(\".\",\"\") + \"%2Ca%3A&start=\" + str(i)\n",
    "        url = url1+url2+url3\n",
    "        \n",
    "        response = requests.get(url)\n",
    "        html = response.text\n",
    "        soup = BeautifulSoup(html, 'html.parser')\n",
    "        \n",
    "        a_tags = soup.select('._sp_each_title')\n",
    "        for a_tag in a_tags :\n",
    "            news_title.append(a_tag.text) \n",
    "            news_link.append(a_tag['href']) \n",
    "            \n",
    "        makers = soup.select('._sp_each_source')\n",
    "        for maker in makers:\n",
    "            news_maker.append(maker.text)  \n",
    "        \n",
    "        i += 10\n",
    "    \n",
    "    return news_title, news_maker, news_link\n",
    "    \n",
    "if __name__ == \"__main__\" :\n",
    "    \n",
    "    page_total = input(\"Naver 뉴스 출력 할 페이지 수 : \")  \n",
    "    stock_name = input(\"주식 관심 종목 : \")  \n",
    "    \n",
    "    while True : \n",
    "        \n",
    "        if 17 <= now_hour < 18 or 12 <= now_hour < 13 :\n",
    "            \n",
    "            \n",
    "            news_title, news_maker, news_link = news_crawling(page_total, stock_name) \n",
    "        \n",
    "            for i in range(len(news_title)) : \n",
    "                bot.sendMessage(chat_id = chat_id, text=news_title[i] + ', ' + news_maker[i] + ', ' + news_link[i])\n",
    "        \n",
    "        time.sleep(3600)        "
   ]
  },
  {
   "cell_type": "code",
   "execution_count": null,
   "metadata": {},
   "outputs": [],
   "source": []
  }
 ],
 "metadata": {
  "kernelspec": {
   "display_name": "Python 3",
   "language": "python",
   "name": "python3"
  },
  "language_info": {
   "codemirror_mode": {
    "name": "ipython",
    "version": 3
   },
   "file_extension": ".py",
   "mimetype": "text/x-python",
   "name": "python",
   "nbconvert_exporter": "python",
   "pygments_lexer": "ipython3",
   "version": "3.7.3"
  }
 },
 "nbformat": 4,
 "nbformat_minor": 2
}
